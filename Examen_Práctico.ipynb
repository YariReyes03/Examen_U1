{
  "nbformat": 4,
  "nbformat_minor": 0,
  "metadata": {
    "colab": {
      "provenance": [],
      "authorship_tag": "ABX9TyOK0OHLvL+yIUSJSPH2SUWW",
      "include_colab_link": true
    },
    "kernelspec": {
      "name": "python3",
      "display_name": "Python 3"
    },
    "language_info": {
      "name": "python"
    }
  },
  "cells": [
    {
      "cell_type": "markdown",
      "metadata": {
        "id": "view-in-github",
        "colab_type": "text"
      },
      "source": [
        "<a href=\"https://colab.research.google.com/github/YariReyes03/Examen_U1/blob/main/Examen_Pr%C3%A1ctico.ipynb\" target=\"_parent\"><img src=\"https://colab.research.google.com/assets/colab-badge.svg\" alt=\"Open In Colab\"/></a>"
      ]
    },
    {
      "cell_type": "markdown",
      "source": [
        "**DETERMINAR SI UN NÚMERO ES PRIMO.**"
      ],
      "metadata": {
        "id": "IoE7dNKQkD7v"
      }
    },
    {
      "cell_type": "code",
      "execution_count": null,
      "metadata": {
        "colab": {
          "base_uri": "https://localhost:8080/"
        },
        "id": "vFIYeUMniFqW",
        "outputId": "17ab52fd-e942-4e58-e66e-8b4ee3538847"
      },
      "outputs": [
        {
          "output_type": "stream",
          "name": "stdout",
          "text": [
            "El número tiene que ser entero\n"
          ]
        }
      ],
      "source": [
        "def Primo(n):   #un numero es primo si es divisible entre él mismo y 1\n",
        "  if n <= 1:    #numeros negativos, 0 y 1 no son numeros primos\n",
        "      return False\n",
        "  elif n == 2:  #Unico numero par que es primo.\n",
        "      return True\n",
        "  else:                         #buscar si hay alguna división exacta, y si la hay, no es número primo\n",
        "     for i in range(2, n):      #ciclo for que crece desde el numero 2 hasta un numero anterior al numero que se esta evaluando\n",
        "          if n % i == 0:        #evaluar si el residuo de alguna de las divisiones es cero\n",
        "              return False      #indica que alguna división dió cero de resultado, es decir, no es número primo\n",
        "  return True                   #indica que si es numero primo\n",
        "\n",
        "while True:                     #ciclo para introducir numeros por el usuario\n",
        "  try:                          #ejecutarse mientras el numero sea entero y diferente de cero\n",
        "    n = int(input(\"Ingrese un número:  (0) para salir --->\" ))\n",
        "    if n == 0:\n",
        "      break\n",
        "    if Primo(n):\n",
        "      print(\"El numero\", n, \"es primo\")\n",
        "    else:\n",
        "      print(\"El numero\", n, \"NO es primo\")\n",
        "  except:\n",
        "    print(\"El número tiene que ser entero\")\n",
        "    break"
      ]
    },
    {
      "cell_type": "markdown",
      "source": [
        "**SIGUIENTE NÚMERO PRIMO**\n"
      ],
      "metadata": {
        "id": "xftgkQJlw06s"
      }
    },
    {
      "cell_type": "code",
      "source": [
        "def Prime(n):\n",
        "  if n < 2:    #condicional; si el numero es menor que 2, no es primo\n",
        "    return False\n",
        "  for i in range(2,int(n**0.5) + 1):      #determina si el numero es primo\n",
        "    if n % i == 0:          #condicional;numeros diferentes de cero\n",
        "      return False\n",
        "  return True\n",
        "\n",
        "def nextPrime(num):         #función;siguiente numero primo de el numero ingresado\n",
        "  next_num = num + 1        #conteo de numeros siguientes\n",
        "  while not Prime(next_num):    #si no se cumple la condicion de numero primo, aumenta 1\n",
        "      next_num += 1\n",
        "  return next_num           #retorna el numero primo siguiente\n",
        "\n",
        "entrada = int(input(\"Ingrese un número: \"))\n",
        "\n",
        "if Prime(entrada):                #analiza el valor ingresado por el usuario para identificar si es primo\n",
        "  print(\"El número es primo\")\n",
        "  num_primo_sig = nextPrime(entrada)    #variable del numero primo siguiente\n",
        "  print(\"El número primo siguiente es: \", num_primo_sig)\n",
        "else:\n",
        "  print(\"No es primo\")"
      ],
      "metadata": {
        "colab": {
          "base_uri": "https://localhost:8080/"
        },
        "id": "lAKtzFiGxM3v",
        "outputId": "43a4ca06-1483-47ae-e930-a7ac0718998c"
      },
      "execution_count": null,
      "outputs": [
        {
          "output_type": "stream",
          "name": "stdout",
          "text": [
            "Ingrese un número: 5\n",
            "El número es primo\n",
            "El número primo siguiente es:  7\n"
          ]
        }
      ]
    },
    {
      "cell_type": "markdown",
      "source": [
        "**Mediana de tres valores**"
      ],
      "metadata": {
        "id": "OcTeQcvFI3DH"
      }
    },
    {
      "cell_type": "code",
      "source": [
        "def Mediana(a,b,c):\n",
        "  if a != b and a != c and b != c:   #comprueba que los numeros son diferentes\n",
        "    numeros = [a,b,c]                 #los agrupa en una lista\n",
        "    datos = sorted(numeros)           #ordena de menor a mayor\n",
        "    print(datos)\n",
        "    median = datos[1]                 #de<finición de la mediana\n",
        "    print(median)\n",
        "    print(f\"La mediana de el conjunto de numeros es: {median}.\")\n",
        "#    return numeros\n",
        "\n",
        "  else:\n",
        "      print(\"Ingrese números diferentes\")\n",
        "\n",
        "a = float(input(\"Ingrese el primer número: \"))\n",
        "b = float(input(\"Ingrese el segundo número: \"))\n",
        "c = float(input(\"Ingrese el tercer número: \"))\n",
        "median = 0\n",
        "Mediana(a,b,c)    #impresión de los números ingresados\n",
        "\n",
        "# print(f\"Los numeros ingresados son: {numeros}.\")"
      ],
      "metadata": {
        "colab": {
          "base_uri": "https://localhost:8080/"
        },
        "id": "jx2ESx9zntBe",
        "outputId": "f7cf912a-6ce5-49d5-af69-a005a1e47d82"
      },
      "execution_count": null,
      "outputs": [
        {
          "output_type": "stream",
          "name": "stdout",
          "text": [
            "Ingrese el primer número: 2\n",
            "Ingrese el segundo número: 5\n",
            "Ingrese el tercer número: 6\n",
            "[2.0, 5.0, 6.0]\n",
            "5.0\n",
            "La mediana de el conjunto de numeros es: 5.0.\n"
          ]
        }
      ]
    },
    {
      "cell_type": "markdown",
      "source": [
        "**Crear contraseña aleatoria.**"
      ],
      "metadata": {
        "id": "kU4iKVhlGGRf"
      }
    },
    {
      "cell_type": "code",
      "source": [
        "import secrets       #genera combinaciones random\n",
        "import string       #trabajar con caracteres\n",
        "\n",
        "def crear_password(longitud):       #concatena strings en una solo\n",
        "    caracteres = string.ascii_letters + string.digits + string.punctuation    #\n",
        "    psswrd = \"\"\n",
        "    for _ in range(longitud):     #de acuerdo a la longitud establecida, genera una contraseña\n",
        "        psswrd += secrets.choice(caracteres)\n",
        "    return psswrd\n",
        "\n",
        "new_psswrd = crear_password(10)\n",
        "print(new_psswrd)"
      ],
      "metadata": {
        "id": "o1mFifQ73duG",
        "colab": {
          "base_uri": "https://localhost:8080/"
        },
        "outputId": "823bf5d9-45e8-4599-9ce1-7dfe50f3efcd"
      },
      "execution_count": null,
      "outputs": [
        {
          "output_type": "stream",
          "name": "stdout",
          "text": [
            "wM{Sv]Otr!\n"
          ]
        }
      ]
    },
    {
      "cell_type": "markdown",
      "source": [
        "**Compute la hipotenusa**"
      ],
      "metadata": {
        "id": "DkqkFktQ3ecm"
      }
    },
    {
      "cell_type": "code",
      "source": [
        "from math import sqrt\n",
        "\n",
        "def teorem(cat1, cat2):   #el cuadrado de la hipotenusa sera la raíz cuadrada de cateto1**2 + cateto2**2\n",
        "  return round(sqrt((cat1**2) + (cat2**2)),2)           #formula de la hipotenusa\n",
        "\n",
        "cat1 = float(input(\"Introduzca el valor de la longitud del primer cateto: \"))\n",
        "cat2 = float(input(\"Introduzca el valor de la longitud del segundo cateto: \"))\n",
        "\n",
        "print (\"\\nEl valor de la hipotenusa es: \")\n",
        "print(teorem(cat1,cat2))"
      ],
      "metadata": {
        "colab": {
          "base_uri": "https://localhost:8080/"
        },
        "id": "aN1b9D0_3lkl",
        "outputId": "81397e28-cf05-497d-de09-7c58439c4551"
      },
      "execution_count": null,
      "outputs": [
        {
          "output_type": "stream",
          "name": "stdout",
          "text": [
            "Introduzca el valor de la longitud del primer cateto: 5\n",
            "Introduzca el valor de la longitud del segundo cateto: 6\n",
            "\n",
            "El valor de la hipotenusa es: \n",
            "7.81\n"
          ]
        }
      ]
    }
  ]
}